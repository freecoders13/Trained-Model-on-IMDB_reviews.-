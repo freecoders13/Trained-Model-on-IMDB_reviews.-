{
 "cells": [
  {
   "cell_type": "markdown",
   "metadata": {},
   "source": [
    "# Training out model on IMDB_reviews datasets from tensorflow datasets"
   ]
  },
  {
   "cell_type": "code",
   "execution_count": 11,
   "metadata": {},
   "outputs": [],
   "source": [
    "import tensorflow as tf\n",
    "import numpy as np\n",
    "import matplotlib.pyplot as plt\n",
    "import tensorflow_datasets as tfds \n",
    "from tensorflow.keras.preprocessing.text import Tokenizer\n",
    "from tensorflow.keras.preprocessing.sequence import pad_sequences"
   ]
  },
  {
   "cell_type": "code",
   "execution_count": 2,
   "metadata": {},
   "outputs": [],
   "source": [
    "imdb , info = tfds.load('imdb_reviews' , with_info =  True  , as_supervised = True)  #loading 'imdb_reviews' from tensorflow datasets.\n",
    "train , test = imdb['train'] , imdb['test']  #initializing test and train data."
   ]
  },
  {
   "cell_type": "code",
   "execution_count": 3,
   "metadata": {},
   "outputs": [],
   "source": [
    "train_sentences = []\n",
    "train_labels = []\n",
    "\n",
    "test_sentences = []\n",
    "test_labels = []\n",
    "\n",
    "for s , l in train:\n",
    "    train_sentences.append(str(s.numpy()))  #retrieving train_data.\n",
    "    train_labels.append(l.numpy())  #retrieving train_labels.\n",
    "\n",
    "for s , l in test:\n",
    "    test_sentences.append(str(s.numpy()))  #retrieving test_data.\n",
    "    test_labels.append(l.numpy())  #retrieving test_labels."
   ]
  },
  {
   "cell_type": "code",
   "execution_count": 4,
   "metadata": {},
   "outputs": [],
   "source": [
    "padding_type = 'post'       #Initializing the parameter values for later use.\n",
    "truncating_type = 'post'\n",
    "embedding_dim = 16\n",
    "vocab_size = 10000\n",
    "max_len = 120\n",
    "\n",
    "\n",
    "tokenizer = Tokenizer(num_words = vocab_size , oov_token = \"<OOV>\")\n",
    "tokenizer.fit_on_texts(train_sentences)  #Creating vocab\n",
    "word_indices = tokenizer.index_word  "
   ]
  },
  {
   "cell_type": "code",
   "execution_count": 5,
   "metadata": {},
   "outputs": [],
   "source": [
    "\n",
    "train_sequences = tokenizer.texts_to_sequences(train_sentences)  #converting train_text to sequence.\n",
    "train_padded = pad_sequences(train_sequences , padding = padding_type , maxlen = max_len , truncating = truncating_type)  #padding train_sequence the sequences.\n",
    "\n",
    "test_sequences = tokenizer.texts_to_sequences(test_sentences)  #converting test_text to sequence.\n",
    "test_padded = pad_sequences(test_sequences , padding = padding_type , maxlen = max_len , truncating = truncating_type)  #padding test_sequence the sequences.\n",
    "\n",
    "train_labels_final = np.array(train_labels)  #array of train labels.\n",
    "test_labels_final = np.array(test_labels)  #array of test labels."
   ]
  },
  {
   "cell_type": "code",
   "execution_count": 6,
   "metadata": {},
   "outputs": [],
   "source": [
    "model = tf.keras.models.Sequential([  #Sequential Model\n",
    "    tf.keras.layers.Embedding(vocab_size , embedding_dim , input_length = max_len),  #Embeddding dim of '16'\n",
    "    tf.keras.layers.Bidirectional(tf.keras.layers.LSTM(units = 16)),  #'LSTM' of '16' units.\n",
    "    tf.keras.layers.Flatten(),\n",
    "    tf.keras.layers.Dense(16 , activation = 'relu'),\n",
    "    tf.keras.layers.Dense(1 , activation = 'sigmoid')  #activation = 'sigmoid' for msingle output because of binary_crossentropy.\n",
    "])\n",
    "\n",
    "model.compile(loss = 'binary_crossentropy' , optimizer = 'adam' , metrics = ['accuracy'])   "
   ]
  },
  {
   "cell_type": "code",
   "execution_count": 7,
   "metadata": {},
   "outputs": [],
   "source": [
    "class Callback(tf.keras.callbacks.Callback):  #Class for early stopping to not to overfit.\n",
    "    def end_to_epoch(self , epochs , logs = {}):\n",
    "        print(\"Reached maximum accuracy. Terminating training ! \")\n",
    "        if(logs.get(['accuracy'])>0.99):   #cancel training at '99%' accuracy.\n",
    "            self.model.stop_training = True\n",
    "\n",
    "callbacks = Callback()   "
   ]
  },
  {
   "cell_type": "code",
   "execution_count": 8,
   "metadata": {},
   "outputs": [
    {
     "name": "stdout",
     "output_type": "stream",
     "text": [
      "Train on 25000 samples, validate on 25000 samples\n",
      "Epoch 1/10\n",
      "25000/25000 [==============================] - 84s 3ms/sample - loss: 0.4531 - accuracy: 0.7768 - val_loss: 0.3848 - val_accuracy: 0.8270\n",
      "Epoch 2/10\n",
      "25000/25000 [==============================] - 68s 3ms/sample - loss: 0.2811 - accuracy: 0.8876 - val_loss: 0.4119 - val_accuracy: 0.8175\n",
      "Epoch 3/10\n",
      "25000/25000 [==============================] - 67s 3ms/sample - loss: 0.2115 - accuracy: 0.9178 - val_loss: 0.4768 - val_accuracy: 0.8186\n",
      "Epoch 4/10\n",
      "25000/25000 [==============================] - 67s 3ms/sample - loss: 0.1641 - accuracy: 0.9375 - val_loss: 0.5856 - val_accuracy: 0.7934\n",
      "Epoch 5/10\n",
      "25000/25000 [==============================] - 68s 3ms/sample - loss: 0.1222 - accuracy: 0.9552 - val_loss: 0.5950 - val_accuracy: 0.8044\n",
      "Epoch 6/10\n",
      "25000/25000 [==============================] - 70s 3ms/sample - loss: 0.0918 - accuracy: 0.9690 - val_loss: 0.7140 - val_accuracy: 0.7902\n",
      "Epoch 7/10\n",
      "25000/25000 [==============================] - 70s 3ms/sample - loss: 0.0663 - accuracy: 0.9782 - val_loss: 0.7374 - val_accuracy: 0.7794\n",
      "Epoch 8/10\n",
      "25000/25000 [==============================] - 72s 3ms/sample - loss: 0.0567 - accuracy: 0.9814 - val_loss: 0.7976 - val_accuracy: 0.7919\n",
      "Epoch 9/10\n",
      "25000/25000 [==============================] - 74s 3ms/sample - loss: 0.0379 - accuracy: 0.9884 - val_loss: 1.0294 - val_accuracy: 0.7902\n",
      "Epoch 10/10\n",
      "25000/25000 [==============================] - 79s 3ms/sample - loss: 0.0295 - accuracy: 0.9910 - val_loss: 1.0039 - val_accuracy: 0.7894\n"
     ]
    }
   ],
   "source": [
    "history = model.fit(train_padded,\n",
    "                     train_labels_final,\n",
    "                     validation_data = (test_padded , test_labels_final),\n",
    "                     epochs = 10, \n",
    "                     callbacks = [callbacks])"
   ]
  },
  {
   "cell_type": "code",
   "execution_count": 12,
   "metadata": {},
   "outputs": [
    {
     "data": {
      "image/png": "[encoded data removed]",
      "text/plain": [
       "<Figure size 432x288 with 1 Axes>"
      ]
     },
     "metadata": {
      "needs_background": "light"
     },
     "output_type": "display_data"
    },
    {
     "data": {
      "text/plain": [
       "<Figure size 432x288 with 0 Axes>"
      ]
     },
     "metadata": {},
     "output_type": "display_data"
    }
   ],
   "source": [
    "acc = history.history[\"accuracy\"]\n",
    "val_acc = history.history[\"val_accuracy\"]\n",
    "loss = history.history['loss']\n",
    "val_loss = history.history['val_loss']\n",
    "\n",
    "epochs = range(len(acc))\n",
    "\n",
    "plt.plot(epochs, acc, 'r', label = 'training_accuracy')\n",
    "plt.plot(epochs , val_acc , 'b' , label = 'validation_accuracy')\n",
    "plt.title(\"Training Accuracy\")\n",
    "plt.legend(loc=0)\n",
    "plt.figure()\n",
    "\n",
    "plt.show()"
   ]
  },
  {
   "cell_type": "code",
   "execution_count": null,
   "metadata": {},
   "outputs": [],
   "source": []
  }
 ],
 "metadata": {
  "kernelspec": {
   "display_name": "Python 3",
   "language": "python",
   "name": "python3"
  },
  "language_info": {
   "codemirror_mode": {
    "name": "ipython",
    "version": 3
   },
   "file_extension": ".py",
   "mimetype": "text/x-python",
   "name": "python",
   "nbconvert_exporter": "python",
   "pygments_lexer": "ipython3",
   "version": "3.7.9"
  }
 },
 "nbformat": 4,
 "nbformat_minor": 4
}
